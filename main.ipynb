{
  "cells": [
    {
      "cell_type": "markdown",
      "metadata": {
        "id": "lZ2uZWaSghgK"
      },
      "source": [
        "# Rock Paper Scissors Image Classification"
      ]
    },
    {
      "cell_type": "markdown",
      "metadata": {
        "id": "b3fe92H_CtN2"
      },
      "source": [
        "Nama : Agus Syahril Mubarok, Dicoding Indonesia"
      ]
    },
    {
      "cell_type": "markdown",
      "metadata": {
        "id": "e5iGtqNlhbvh"
      },
      "source": [
        "**1. Import Library TensorFlow, Keras dan Masukkan Dataset**"
      ]
    },
    {
      "cell_type": "markdown",
      "metadata": {
        "id": "q1DKOWKfhkqU"
      },
      "source": [
        "Masukan library model Deep Learning yang dipilih. Masukan layer, model, praproses gambar, dan optimasi pada metode Convolutional Neural Network. Dataset yang didapat adalah yang sudah disediakan oleh Dicoding."
      ]
    },
    {
      "cell_type": "code",
      "execution_count": null,
      "metadata": {
        "colab": {
          "base_uri": "https://localhost:8080/"
        },
        "id": "-7EE3GEWAY3A",
        "outputId": "074384b2-b823-41b3-9b25-ae122ba8ea64"
      },
      "outputs": [],
      "source": [
        "#import tensorflow\n",
        "import tensorflow as tf\n",
        "from tensorflow.keras.preprocessing.image import ImageDataGenerator\n",
        "from tensorflow.keras.optimizers import RMSprop\n",
        "from tensorflow.keras.models import Sequential\n",
        "from tensorflow.keras.layers import Dense, Dropout, Conv2D, Activation, Flatten, MaxPool2D\n",
        "\n",
        "#Print tensorflow version\n",
        "print(tf.__version__)"
      ]
    },
    {
      "cell_type": "code",
      "execution_count": null,
      "metadata": {
        "colab": {
          "base_uri": "https://localhost:8080/"
        },
        "id": "jsHJkh3oHH4x",
        "outputId": "4366bb7f-3750-4ab5-e40b-bc4e5b816b38"
      },
      "outputs": [],
      "source": [
        "#download dataset\n",
        "!wget https://github.com/dicodingacademy/assets/releases/download/release/rockpaperscissors.zip"
      ]
    },
    {
      "cell_type": "markdown",
      "metadata": {
        "id": "cU1mzN_viKc9"
      },
      "source": [
        " **2. Setup dan Import Library & Memisahkan Data Latih dan Validasi**"
      ]
    },
    {
      "cell_type": "markdown",
      "metadata": {
        "id": "M3EricbjjDWW"
      },
      "source": [
        "Masukan library model Deep Learning yang dipilih. Masukan layer, model, praproses gambar, dan optimasi pada metode Convolutional Neural Network.\n",
        "\n",
        "Dataset yang didapat adalah yang sudah disediakan oleh Dicoding"
      ]
    },
    {
      "cell_type": "markdown",
      "metadata": {
        "id": "FCqi83RSjE6v"
      },
      "source": [
        "Langkah selanjutnya adalah memisahkan data menjadi 2 bagian yaitu Data Train(Latih) dan Data Validasi dengan rasio yang diinginkan (60:40).\n",
        "\n",
        "Dengan menguji model, kita dapat melihat kesalahan yang dibuat dan memperbaikinya sebelum mulai membawa model kita ke tahap selanjutnya"
      ]
    },
    {
      "cell_type": "code",
      "execution_count": null,
      "metadata": {
        "colab": {
          "base_uri": "https://localhost:8080/"
        },
        "id": "BziXKHbrJcr9",
        "outputId": "99517c72-eae1-4d2b-dcfa-ce5ad570654c"
      },
      "outputs": [],
      "source": [
        "#Install split folders\n",
        "!pip install split_folders"
      ]
    },
    {
      "cell_type": "code",
      "execution_count": null,
      "metadata": {
        "colab": {
          "base_uri": "https://localhost:8080/"
        },
        "id": "XwwFfEiMKFYZ",
        "outputId": "5f6d4d30-2178-4947-ae75-c44e99b4994c"
      },
      "outputs": [],
      "source": [
        "#Memisahkan data latih dan validasi\n",
        "#Import zipfiles,os dan splitfolder\n",
        "import zipfile,os\n",
        "import splitfolders\n",
        "\n",
        "local_zip = 'rockpaperscissors.zip'\n",
        "zip_ref = zipfile.ZipFile(local_zip, 'r')\n",
        "zip_ref.extractall('rps')\n",
        "zip_ref.close()\n",
        "\n",
        "splitfolders.ratio('rps/rockpaperscissors/rps-cv-images', output=\"rps/rockpaperscissors/data\", seed=1337, ratio=(.6, .4))\n",
        "#splitfolders.fixed('rps/rockpaperscissors/rps-cv-images', output=\"rps/rockpaperscissors/data\", seed=1337, fixed=(100, 100), oversample=False, group_prefix=None)\n",
        "\n",
        "\n",
        "data_dir = 'rps/rockpaperscissors/data'\n",
        "train_dir = os.path.join(data_dir, 'train')\n",
        "validation_dir = os.path.join(data_dir, 'val')\n",
        "\n",
        "os.listdir('rps/rockpaperscissors/data/train')\n",
        "os.listdir('rps/rockpaperscissors/data/val')"
      ]
    },
    {
      "cell_type": "code",
      "execution_count": null,
      "metadata": {
        "colab": {
          "base_uri": "https://localhost:8080/"
        },
        "id": "NdL8-Q0m3lgH",
        "outputId": "2ae1c459-9f5e-40fc-a958-d98a35569ba0"
      },
      "outputs": [],
      "source": [
        "print(len(os.listdir('rps/rockpaperscissors/paper')))\n",
        "print(len(os.listdir('rps/rockpaperscissors/scissors')))\n",
        "print(len(os.listdir('rps/rockpaperscissors/rock')))"
      ]
    },
    {
      "cell_type": "code",
      "execution_count": null,
      "metadata": {
        "id": "d13hbpx14Tch"
      },
      "outputs": [],
      "source": [
        "train_paper_dir = os.path.join(train_dir, 'paper')\n",
        "train_scissors_dir = os.path.join(train_dir, 'scissors')\n",
        "train_rock_dir = os.path.join(train_dir, 'rock')\n",
        "\n",
        "validation_paper_dir = os.path.join(validation_dir, 'paper')\n",
        "validation_scissors_dir = os.path.join(validation_dir, 'scissors')\n",
        "validation_rock_dir = os.path.join(validation_dir, 'rock')"
      ]
    },
    {
      "cell_type": "code",
      "execution_count": null,
      "metadata": {
        "id": "rKDNULsj5dVM"
      },
      "outputs": [],
      "source": [
        "paper_imgs = os.listdir(train_paper_dir)\n",
        "scissors_imgs = os.listdir(train_scissors_dir)\n",
        "rock_imgs = os.listdir(train_rock_dir)"
      ]
    },
    {
      "cell_type": "code",
      "execution_count": null,
      "metadata": {
        "colab": {
          "base_uri": "https://localhost:8080/",
          "height": 190
        },
        "id": "KIA_uZRW7NUH",
        "outputId": "39952fef-6cb3-4b0f-9062-8aebafe3cdf6"
      },
      "outputs": [],
      "source": [
        "import matplotlib.pyplot as plt\n",
        "import matplotlib.image as mpimg\n",
        "\n",
        "plt.figure(figsize=(22, 5))\n",
        "for i, img_path in enumerate(paper_imgs[:5]):\n",
        "  sp = plt.subplot(1, 5, i+1)\n",
        "  img = mpimg.imread(os.path.join(train_paper_dir, img_path))\n",
        "  plt.imshow(img)\n",
        "plt.show()\n"
      ]
    },
    {
      "cell_type": "code",
      "execution_count": null,
      "metadata": {
        "colab": {
          "base_uri": "https://localhost:8080/",
          "height": 190
        },
        "id": "dJm17ciE-lr1",
        "outputId": "80c9c7a7-8ad8-4d77-c809-42a156d2f172"
      },
      "outputs": [],
      "source": [
        "plt.figure(figsize=(22, 5))\n",
        "for i, img_path in enumerate(scissors_imgs[:5]):\n",
        "  sp = plt.subplot(1, 5, i+1)\n",
        "  img = mpimg.imread(os.path.join(train_scissors_dir, img_path))\n",
        "  plt.imshow(img)\n",
        "plt.show()"
      ]
    },
    {
      "cell_type": "code",
      "execution_count": null,
      "metadata": {
        "colab": {
          "base_uri": "https://localhost:8080/",
          "height": 190
        },
        "id": "KDxtvwcd-5SE",
        "outputId": "443c82b5-0e09-405e-a705-075533eff2a8"
      },
      "outputs": [],
      "source": [
        "plt.figure(figsize=(22, 5))\n",
        "for i, img_path in enumerate(rock_imgs[:5]):\n",
        "  sp = plt.subplot(1, 5, i+1)\n",
        "  img = mpimg.imread(os.path.join(train_rock_dir, img_path))\n",
        "  plt.imshow(img)\n",
        "plt.show()"
      ]
    },
    {
      "cell_type": "markdown",
      "metadata": {
        "id": "-Q5jNukYjZ9_"
      },
      "source": [
        "**3. Augmentasi Data Gambar**"
      ]
    },
    {
      "cell_type": "markdown",
      "metadata": {
        "id": "XACk_9vvjtVw"
      },
      "source": [
        "Augmentasi data gambar menggunakan metode ImageDataGenerator. Augmentasi data gambar berfungsi untuk menambahkan dataset gambar dengan cara memperbesar gambar, memotong gambar, dan memanipulasi gambar namun tanpa menghilangkan inti dari data tersebut."
      ]
    },
    {
      "cell_type": "code",
      "execution_count": null,
      "metadata": {
        "id": "lmGcm5LP_Xi-"
      },
      "outputs": [],
      "source": [
        "#Augmentasi data gambar\n",
        "train_datagen = ImageDataGenerator(rescale=1./255, validation_split=0.9999, shear_range=0.2, zoom_range=0.2, horizontal_flip=True)\n",
        "validation_datagen = ImageDataGenerator(rescale=1./255, validation_split=0.9999)"
      ]
    },
    {
      "cell_type": "code",
      "execution_count": null,
      "metadata": {
        "colab": {
          "base_uri": "https://localhost:8080/"
        },
        "id": "KSdtFEZpAyW_",
        "outputId": "4e3b7a3c-a997-49c9-9e4a-225d6497fee4"
      },
      "outputs": [],
      "source": [
        "train_generator = train_datagen.flow_from_directory(\n",
        "    train_dir,\n",
        "    target_size = (100, 100),\n",
        "    batch_size = 32,\n",
        "    class_mode = 'categorical',\n",
        "    color_mode = 'rgb',\n",
        "    shuffle = True\n",
        ")\n",
        "\n",
        "valid_generator = validation_datagen.flow_from_directory(\n",
        "    validation_dir,\n",
        "    target_size = (100, 100),\n",
        "    batch_size = 32,\n",
        "    class_mode = 'categorical',\n",
        "    color_mode = 'rgb',\n",
        "    shuffle = True,\n",
        ")"
      ]
    },
    {
      "cell_type": "code",
      "execution_count": null,
      "metadata": {
        "colab": {
          "base_uri": "https://localhost:8080/"
        },
        "id": "_FeB93GCCoop",
        "outputId": "85be073b-24b6-4046-8e08-3bd190e6ec8f"
      },
      "outputs": [],
      "source": [
        "train_generator.class_indices"
      ]
    },
    {
      "cell_type": "code",
      "execution_count": null,
      "metadata": {
        "colab": {
          "base_uri": "https://localhost:8080/"
        },
        "id": "k5om-o4ZCwyp",
        "outputId": "c8fd9bf2-2435-44e2-f4f1-86a294e62892"
      },
      "outputs": [],
      "source": [
        "valid_generator.class_indices"
      ]
    },
    {
      "cell_type": "markdown",
      "metadata": {
        "id": "AdR1uCTaj2yZ"
      },
      "source": [
        "**4. Melatih sebuah model Convolutional Neural Network**"
      ]
    },
    {
      "cell_type": "code",
      "execution_count": null,
      "metadata": {
        "colab": {
          "base_uri": "https://localhost:8080/"
        },
        "id": "gWmimSpiDV_l",
        "outputId": "b8cd4f38-e492-4f7a-eb04-ee1a46bc703b"
      },
      "outputs": [],
      "source": [
        "model = tf.keras.models.Sequential([\n",
        "    tf.keras.layers.Conv2D(16, (3,3), activation='relu', input_shape=(100, 100, 3)),\n",
        "    tf.keras.layers.MaxPooling2D(2, 2),\n",
        "    tf.keras.layers.Dropout(0.25),\n",
        "    tf.keras.layers.Conv2D(32, (3,3), activation='relu'),\n",
        "    tf.keras.layers.MaxPooling2D(2,2),\n",
        "    tf.keras.layers.Dropout(0.25),\n",
        "    tf.keras.layers.Conv2D(64, (3,3), activation='relu'),\n",
        "    tf.keras.layers.MaxPooling2D(2,2),\n",
        "    tf.keras.layers.Dropout(0.25),\n",
        "    tf.keras.layers.Conv2D(128, (3,3), activation='relu'),\n",
        "    tf.keras.layers.MaxPooling2D(2,2),\n",
        "    tf.keras.layers.Dropout(0.25),\n",
        "    tf.keras.layers.Flatten(),\n",
        "    tf.keras.layers.Dense(512, activation='relu'),\n",
        "    tf.keras.layers.Dense(3, activation='softmax')\n",
        "])\n",
        "\n",
        "model.summary()"
      ]
    },
    {
      "cell_type": "markdown",
      "metadata": {
        "id": "HBf4gTamkH51"
      },
      "source": [
        "**5. Kompilasi Model & Alur Pelatihan**"
      ]
    },
    {
      "cell_type": "markdown",
      "metadata": {
        "id": "kGaY6MGkkV1P"
      },
      "source": [
        "Metode selanjutnya menggunakan model yang akan dikompilasi. Penggunaan model ini agar menentukan optimasi dari model dataset tadi. Setelah menentukan pengoptimalan model dilanjutkan dengan penggunaan loss pada fungsi CNN dengan kelas dataset yang digunakan.\n",
        "\n",
        "Untuk klasifikasi biner menggunakan binary_crossentropy dan untuk klasifikasi multi kelas menggunakan categorical_crossentropy dan kemudian menentukan metrik akurasi untuk mengevaluasi model yang dibuat."
      ]
    },
    {
      "cell_type": "code",
      "execution_count": null,
      "metadata": {
        "id": "4FH28VAfGKKl"
      },
      "outputs": [],
      "source": [
        "#Kompilasi model dan alur pelatihan\n",
        "\n",
        "model.compile(loss = 'categorical_crossentropy',\n",
        "              optimizer= 'RMSprop', \n",
        "              metrics= ['accuracy'])"
      ]
    },
    {
      "cell_type": "code",
      "execution_count": null,
      "metadata": {
        "colab": {
          "base_uri": "https://localhost:8080/"
        },
        "id": "_CDJNNWfHC5o",
        "outputId": "524d5a03-11f8-455e-9187-d626117b8389"
      },
      "outputs": [],
      "source": [
        "historyku = model.fit(train_generator, \n",
        "          steps_per_epoch=25, \n",
        "          epochs=20, \n",
        "          validation_data=valid_generator,\n",
        "          validation_steps=5,\n",
        "          verbose=2)"
      ]
    },
    {
      "cell_type": "markdown",
      "metadata": {
        "id": "QiGw8_Q7ktRo"
      },
      "source": [
        "**6. Plot Kurva Data Latih dan Validasi**"
      ]
    },
    {
      "cell_type": "markdown",
      "metadata": {
        "id": "5KHYPWP1lV8K"
      },
      "source": [
        "Kemudian, kita tampilkan plot kurva hasil apakah data sudah cocok ataupun bisa terjadi overfitting dan underfitting."
      ]
    },
    {
      "cell_type": "code",
      "execution_count": null,
      "metadata": {
        "colab": {
          "base_uri": "https://localhost:8080/",
          "height": 590
        },
        "id": "V4iT2wvEJAVc",
        "outputId": "5e1ee983-e3a9-4f96-b624-77fbe2713568"
      },
      "outputs": [],
      "source": [
        "#Plot kurva data latih dan validasi\n",
        "import matplotlib.pyplot as plt\n",
        "\n",
        "acc = historyku.history['accuracy']\n",
        "val_acc = historyku.history['val_accuracy']\n",
        "\n",
        "loss = historyku.history['loss']\n",
        "val_loss = historyku.history['val_loss']\n",
        "\n",
        "plt.plot(acc, color='blue')\n",
        "plt.plot(val_acc, color='red')\n",
        "plt.title('model accuracy')\n",
        "plt.ylabel('accuracy')\n",
        "plt.xlabel('epoch')\n",
        "plt.legend(['train', 'val'], loc='upper left')\n",
        "plt.show()\n",
        "\n",
        "plt.plot(loss, color='blue')\n",
        "plt.plot(val_loss, color='red')\n",
        "plt.title('model loss')\n",
        "plt.ylabel('loss')\n",
        "plt.xlabel('epoch')\n",
        "plt.legend(['train', 'val'], loc='upper left')\n",
        "plt.show"
      ]
    },
    {
      "cell_type": "markdown",
      "metadata": {
        "id": "AgP5knL2lpPg"
      },
      "source": [
        "**7. Memprediksi Model Data yang ada dengan Upload Gambar**"
      ]
    },
    {
      "cell_type": "markdown",
      "metadata": {
        "id": "nK-iU-Hpl6HV"
      },
      "source": [
        "Setelah kita mengetahui hasil data tersebut berdasarkan akurasi pada model data. Maka, kita bisa gunakan \"upload image\" dari Google Colab untuk memprediksi model data yang telah di klasifikasi."
      ]
    },
    {
      "cell_type": "code",
      "execution_count": null,
      "metadata": {
        "colab": {
          "base_uri": "https://localhost:8080/",
          "height": 357,
          "resources": {
            "http://localhost:8080/nbextensions/google.colab/files.js": {
              "data": "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",
              "headers": [
                [
                  "content-type",
                  "application/javascript"
                ]
              ],
              "ok": true,
              "status": 200,
              "status_text": ""
            }
          }
        },
        "id": "nXRGdLztf6Wd",
        "outputId": "9cb49b2c-501d-4e0e-9171-886e4d7055c3"
      },
      "outputs": [],
      "source": [
        "#Memprediksi Model Data yang ada dengan Upload Gambar\n",
        "\n",
        "import numpy as np\n",
        "from google.colab import files\n",
        "from keras.preprocessing import image\n",
        "import matplotlib.pyplot as plt\n",
        "import matplotlib.image as mpimg\n",
        "%matplotlib inline\n",
        "\n",
        "uploaded = files.upload()\n",
        "\n",
        "for fn in uploaded.keys():\n",
        "\n",
        "    path = fn\n",
        "    img = image.load_img(path, target_size=(100,100))\n",
        "    imgplot = plt.imshow(img)\n",
        "    x = image.img_to_array(img)\n",
        "    x = np.expand_dims(x, axis=0)\n",
        " \n",
        "    images = np.vstack([x])\n",
        "    classes = model.predict(images, batch_size=32)\n",
        "  \n",
        "    print(fn)\n",
        "    if classes[0,0] == 1.0:\n",
        "      print('Paper')\n",
        "    elif classes[0,1] == 1.0:\n",
        "      print('Rock')\n",
        "    else:\n",
        "      print('Scissors')\n"
      ]
    }
  ],
  "metadata": {
    "colab": {
      "collapsed_sections": [],
      "name": "rockpaperscissors_image_classification_.ipynb",
      "provenance": []
    },
    "kernelspec": {
      "display_name": "Python 3",
      "name": "python3"
    },
    "language_info": {
      "name": "python"
    }
  },
  "nbformat": 4,
  "nbformat_minor": 0
}
